{
 "cells": [
  {
   "cell_type": "code",
   "execution_count": 3,
   "id": "ba10bb82-fdc1-4bee-be39-cbb822ec289d",
   "metadata": {},
   "outputs": [],
   "source": [
    "from openpyxl import Workbook\n",
    "\n",
    "wb = Workbook()\n",
    "sheet = wb.active\n",
    "\n",
    "### 튜플 데이터 활용 ###\n",
    "# 튜플(tuple)은 몇 가지 점을 제외하곤 리스트와 거의 비슷하며 리스트와 다른 점은 다음과 같다.\n",
    "\n",
    "#리스트는 [], 튜플은 ()으로 둘러싼다.\n",
    "#리스트는 요솟값의 생성, 삭제, 수정이 가능하지만, 튜플은 요솟값을 바꿀 수 없다.\n",
    "\n",
    "rows = (\n",
    "    ('A', 496, 48, 454),\n",
    "    ('B', 730, 42, 116),\n",
    "    ('C', 905, 17, 257),\n",
    "    ('D', 132, 839, 453),\n",
    "    ('E', 81, 240, 444),\n",
    "    ('F', 151, 716, 482),\n",
    "    ('G', 100, 200, 300)\n",
    ")\n",
    "\n",
    "for row in rows:\n",
    "    sheet.append(row)\n",
    "\n",
    "wb.save('new_data.xlsx')"
   ]
  },
  {
   "cell_type": "code",
   "execution_count": 5,
   "id": "564d6c53-5e70-46f9-aeb6-1f3d950bee10",
   "metadata": {},
   "outputs": [],
   "source": [
    "# 특정 데이터 숨기기\n",
    "wb_sheet = wb.active\n",
    "\n",
    "# 특정 Column 숨기기\n",
    "wb_sheet.column_dimensions.group('B', 'C', hidden=True)\n",
    "\n",
    "# 특정 Row 숨기기\n",
    "wb_sheet.row_dimensions.group(2, 4, hidden=True)\n",
    "\n",
    "wb.save(\"updated_data.xlsx\") # 실행결과 확인 - 접혀서 숨겨진 것을 확인"
   ]
  },
  {
   "cell_type": "code",
   "execution_count": 98,
   "id": "65d0dcb9-94b2-4e41-85b7-e7e8c3a844eb",
   "metadata": {},
   "outputs": [
    {
     "name": "stdout",
     "output_type": "stream",
     "text": [
      "A 496 48 454 \n",
      "B 730 42 116 \n",
      "C 905 17 257 \n",
      "D 132 839 453 \n",
      "E 81 240 444 \n",
      "F 151 716 482 \n",
      "G 100 200 300 \n",
      "Total 2595 None None \n"
     ]
    }
   ],
   "source": [
    "# 합 구하여 저장\n",
    "import openpyxl\n",
    "workbook = openpyxl.load_workbook('new_data.xlsx')\n",
    "\n",
    "wb_sheet = workbook.active\n",
    "\n",
    "sum = 0\n",
    "data = wb_sheet['B']\n",
    "for each in data:\n",
    "    sum += each.value\n",
    "    \n",
    "wb_sheet['A8'] = 'Total'\n",
    "\n",
    "cell = wb_sheet.cell(row=8, column=2)\n",
    "cell.value = sum\n",
    "\n",
    "for row in wb_sheet.rows:\n",
    "    for cell in row:\n",
    "        print(cell.value, end= ' ')\n",
    "    print()\n",
    "\n"
   ]
  },
  {
   "cell_type": "code",
   "execution_count": 100,
   "id": "65b219c7-ea00-4e68-8b44-c9b53bf8a306",
   "metadata": {},
   "outputs": [
    {
     "name": "stdout",
     "output_type": "stream",
     "text": [
      "((<Cell 'Sheet'.B1>, <Cell 'Sheet'.C1>, <Cell 'Sheet'.D1>),)\n"
     ]
    }
   ],
   "source": [
    "workbook = openpyxl.load_workbook('new_data.xlsx')\n",
    "\n",
    "wb_sheet = workbook.active\n",
    "\n",
    "data = wb_sheet['B1:D1']\n",
    "print(data)"
   ]
  },
  {
   "cell_type": "code",
   "execution_count": 106,
   "id": "b2419384-524d-4c6e-971c-32c615f8da28",
   "metadata": {},
   "outputs": [
    {
     "name": "stdout",
     "output_type": "stream",
     "text": [
      "A 496 48 454 998 \n",
      "B 730 42 116 None \n",
      "C 905 17 257 None \n",
      "D 132 839 453 None \n",
      "E 81 240 444 None \n",
      "F 151 716 482 None \n",
      "G 100 200 300 None \n"
     ]
    }
   ],
   "source": [
    "sum = 0 \n",
    "\n",
    "for each in data:\n",
    "    for i in range(3):\n",
    "        if type(each[i].value) is int:\n",
    "            sum += int(each[i].value)\n",
    "\n",
    "cell = wb_sheet.cell(row=1, column=5)\n",
    "cell.value = sum\n",
    "\n",
    "for row in wb_sheet.rows:\n",
    "    for cell in row:\n",
    "        print(cell.value, end = ' ')\n",
    "    print()"
   ]
  },
  {
   "cell_type": "code",
   "execution_count": null,
   "id": "b8f52c8e-2db6-48ea-a214-9452073a7622",
   "metadata": {},
   "outputs": [],
   "source": []
  }
 ],
 "metadata": {
  "kernelspec": {
   "display_name": "Python 3 (ipykernel)",
   "language": "python",
   "name": "python3"
  },
  "language_info": {
   "codemirror_mode": {
    "name": "ipython",
    "version": 3
   },
   "file_extension": ".py",
   "mimetype": "text/x-python",
   "name": "python",
   "nbconvert_exporter": "python",
   "pygments_lexer": "ipython3",
   "version": "3.12.4"
  }
 },
 "nbformat": 4,
 "nbformat_minor": 5
}
